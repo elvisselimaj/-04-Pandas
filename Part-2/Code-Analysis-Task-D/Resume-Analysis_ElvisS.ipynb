{
 "cells": [
  {
   "cell_type": "markdown",
   "metadata": {},
   "source": [
    "# Resume Analysis_ElvisS\n",
    "_**HARD: This is a curveball assignment. Plus, this is Python without Pandas.**_\n",
    "\n",
    "#### The objective of this assignment is for you to explain what is happening in each cell in clear, understandable language. \n",
    "\n",
    "#### _There is no need to code._ The code is there for you, and it already runs. Your task is only to explain what each line in each cell does.\n",
    "\n",
    "#### The placeholder cells should describe what happens in the cell below it."
   ]
  },
  {
   "cell_type": "code",
   "execution_count": null,
   "metadata": {},
   "outputs": [],
   "source": [
    "import os\n",
    "import string\n",
    "from collections import Counter"
   ]
  },
  {
   "cell_type": "markdown",
   "metadata": {},
   "source": [
    "### Line 2 \n",
    "Searches the path in the computer from where we need to pull up the file. The os.path.join searched the file within the folder the pandas file is found and goes into resume.md\n",
    "\n",
    "### Line 5 \n",
    "Defines the names the words need to be found for the REQUIRED_SKILLS, excel, python, mysql, statistics in the data frame.\n",
    "\n",
    "### Line 6 \n",
    "Defines the words that need to be found under the file resume_md and this is named as DESIRED_SKILLS. The dictionary of words being found are the words \"r, git, html, css, leaflet, modeling.\""
   ]
  },
  {
   "cell_type": "code",
   "execution_count": null,
   "metadata": {},
   "outputs": [],
   "source": [
    "# Paths\n",
    "resume_path = os.path.join(\".\", 'resume.md')\n",
    "\n",
    "# Skills to match\n",
    "REQUIRED_SKILLS = {\"excel\", \"python\", \"mysql\", \"statistics\"}\n",
    "DESIRED_SKILLS = {\"r\", \"git\", \"html\", \"css\", \"leaflet\", \"modeling\"}"
   ]
  },
  {
   "cell_type": "markdown",
   "metadata": {},
   "source": [
    "### Line \n",
    "This function reads and returns a data. It then takes a file path as an input. It then reads the file, changes the word string to lower a case and splits the strings based on white space and returns the processed file. "
   ]
  },
  {
   "cell_type": "code",
   "execution_count": null,
   "metadata": {},
   "outputs": [],
   "source": [
    "def load_file(filepath):\n",
    "    # Helper function to read a file and return the data.\n",
    "    with open(filepath, \"r\") as resume_file_handler:\n",
    "        resume_contents = resume_file_handler.read()\n",
    "        resume_contents = resume_contents.lower()\n",
    "        resume_tokens = resume_contents.split()\n",
    "        return resume_tokens"
   ]
  },
  {
   "cell_type": "markdown",
   "metadata": {},
   "source": [
    "### Line\n",
    "The code loads the file under the data frame name word_list. "
   ]
  },
  {
   "cell_type": "code",
   "execution_count": null,
   "metadata": {},
   "outputs": [],
   "source": [
    "# Grab the text for a Resume\n",
    "word_list = load_file(resume_path)"
   ]
  },
  {
   "cell_type": "markdown",
   "metadata": {},
   "source": [
    "* A 'set' is created in order to store values in it later \n",
    " A set is being populated by appending /adding values to it in the for loop part of the code\n",
    "\n",
    "* Why would it be necessary to create a `punctuation` set? , It is necessary to create a 'puctuation' set to be used repeatedly through out a text and will have several duplicates if it is in other forms such as a list, a set will NOT contain duplicate elements(a pnctuation will  be written only once ) \n",
    "\n",
    "* What does subtracting from the set do? removes the puctuation form the resume \n",
    "\n",
    "* * Refer to the `resume = resume - punctuation` line\n",
    "\n",
    "* What does `\\n` do in a string. It produces the line to the next line and it also prints out the data frame. "
   ]
  },
  {
   "cell_type": "code",
   "execution_count": null,
   "metadata": {},
   "outputs": [],
   "source": [
    "# Create a set of unique words from the resume\n",
    "resume = set()\n",
    "\n",
    "# Single elements in a programming language are often referred to as tokens\n",
    "for token in word_list:\n",
    "    resume.add(token)\n",
    "\n",
    "print('\\nWORDS BEFORE MOVING PUNCTUATION')    \n",
    "print(resume)\n",
    "\n",
    "# Remove Punctuation that were read as whole words\n",
    "punctuation = set(string.punctuation)\n",
    "# HINT: Attributes that are in `resume` that are not in `punctuation` (difference)\n",
    "resume = resume - punctuation\n",
    "\n",
    "print('\\nWORDS AFTER MOVING PUNCTUATION')    \n",
    "print(resume)"
   ]
  },
  {
   "cell_type": "markdown",
   "metadata": {},
   "source": [
    "* What does using a `set` intersection do in this section? \n",
    "It identifies a word common in both \n",
    "\n",
    "* How does the character cleaning function work differently than the word cleaning function? (test it)\n",
    "It uses to loops one to iterate each word , second to iterate characters in each word and in it back if the chracter is not a punctuation \n",
    "\n",
    "* Can you add more items to the `stop_words` list? ('the','or', 'with', 'is','are','me','my','myself'...). The Stop_words' lists all the words that the resume stops to look into. \n",
    "\n",
    "* Explain how the list `word_list` list comprehension works. What does it return and what is the filtering criteria?\n",
    "Its filters and removes from the list those words that are in stop word list and store only words which are not in the stop word list. The list comperhension work by iterating through each words and checking if it is inside stop word list, if it is not then it will add back to word list , if it is inside word list it will not add "
   ]
  },
  {
   "cell_type": "code",
   "execution_count": null,
   "metadata": {},
   "outputs": [],
   "source": [
    "# Calculate the Required Skills Match using Set Intersection\n",
    "print('REQUIRED SKILLS')\n",
    "print(resume & REQUIRED_SKILLS)\n",
    "\n",
    "# Calculate the Desired Skills Match using Set Intersection\n",
    "print('DESIRED SKILLS')\n",
    "print(resume & DESIRED_SKILLS)\n",
    "\n",
    "\n",
    "# Word Punctuation Cleaning\n",
    "word_list = [word for word in word_list if word not in string.punctuation]\n",
    "print('\\nWORD LIST AFTER PUNCTUATION REMOVAL')\n",
    "print(word_list)\n",
    "\n",
    "# Character Punctuation Cleaning\n",
    "word_list = [''.join(char for char in word if char not in string.punctuation) for word in word_list]\n",
    "print('\\nWORD LIST AFTER CHARACTER PUNCTUATION REMOVAL')\n",
    "print(word_list)\n",
    "\n",
    "# Clean Stop Words\n",
    "stop_words = [\"and\", \"with\", \"using\", \"##\", \"working\", \"in\", \"to\"]\n",
    "word_list = [word for word in word_list if word not in stop_words]\n",
    "print('\\nWORD LIST AFTER STOP WORDS')\n",
    "print(word_list)"
   ]
  },
  {
   "cell_type": "markdown",
   "metadata": {},
   "source": [
    "* How was the `word_count` dictionary initialized, what were in initial key values, and how were they set?\n",
    " It initialized by taking the first word in the word list, and setting it values to zero.  \n",
    "\n",
    "* Explain the logic behind incrementing the world count value using the `for loop`. Be sure to explain how to reference the word key in the `word_count` dictionary . \n",
    "The for loop iterates through each word in a word list and it updates its frquency(value by 1 ) the word key is referenced in the word count by word_count[word]\n",
    "\n",
    "* Collections.counter is optional, but explain the difference between the `for loop` and using `Counter`\n",
    "Using the loop will perform what the Counter does internally, both performs exactly the same. The counter is build in probably optimized and is a single line, does not need to be initialzing like fo the for loop. "
   ]
  },
  {
   "cell_type": "code",
   "execution_count": null,
   "metadata": {},
   "outputs": [],
   "source": [
    "# Resume Word Count\n",
    "# ==========================\n",
    "# Initialize a dictionary with default values equal to zero\n",
    "word_count = {}.fromkeys(word_list, 0)\n",
    "\n",
    "# Loop through the word list and count each word.\n",
    "for word in word_list:\n",
    "    word_count[word] += 1\n",
    "# print(word_count)\n",
    "\n",
    "# Bonus using collections.Counter\n",
    "word_counter = Counter(word_list)\n",
    "# print(word_counter)\n",
    "\n",
    "# Comparing both word count solutions\n",
    "print(word_count == word_counter)\n",
    "\n",
    "# Top 10 Words\n",
    "print(\"Top 10 Words\")\n",
    "print(\"=============\")"
   ]
  },
  {
   "cell_type": "markdown",
   "metadata": {},
   "source": [
    "### Final Out-Put\n",
    "The code create an empty list to be sorted words, sort the words based on their frequency descending and iterates and print the top 10 words the part of the code[:, 0] selects the top ten words. \n",
    "\n",
    "The code create an empty list  sorted_words, sort the words based on their frequency descending and iterate and print the top 10 words the part of the code [:10] selects the top ten wprds\n",
    "As a bonus, explain how you would get rid of the blank token.\n",
    "\n",
    "Adding a line to check if a blank space is in the keys and remove it if it is. "
   ]
  },
  {
   "cell_type": "code",
   "execution_count": null,
   "metadata": {},
   "outputs": [],
   "source": [
    "# Sort words by count and print the top 10\n",
    "sorted_words = []\n",
    "for word in sorted(word_count, key=word_count.get, reverse=True)[:10]:\n",
    "    print(f\"Token: {word:20} Count: {word_count[word]}\")"
   ]
  },
  {
   "cell_type": "markdown",
   "metadata": {},
   "source": [
    "### THE END OF THE ASIGNMENTS"
   ]
  }
 ],
 "metadata": {
  "kernelspec": {
   "display_name": "Python 3",
   "language": "python",
   "name": "python3"
  },
  "language_info": {
   "codemirror_mode": {
    "name": "ipython",
    "version": 3
   },
   "file_extension": ".py",
   "mimetype": "text/x-python",
   "name": "python",
   "nbconvert_exporter": "python",
   "pygments_lexer": "ipython3",
   "version": "3.7.3"
  }
 },
 "nbformat": 4,
 "nbformat_minor": 2
}
